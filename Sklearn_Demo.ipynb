{
 "cells": [
  {
   "cell_type": "code",
   "execution_count": 1,
   "metadata": {},
   "outputs": [
    {
     "name": "stderr",
     "output_type": "stream",
     "text": [
      "/Users/adsherman/miniconda2/envs/tZqAnalysis/lib/python2.7/site-packages/sklearn/cross_validation.py:41: DeprecationWarning: This module was deprecated in version 0.18 in favor of the model_selection module into which all the refactored classes and functions are moved. Also note that the interface of the new CV iterators are different from that of this module. This module will be removed in 0.20.\n",
      "  \"This module will be removed in 0.20.\", DeprecationWarning)\n"
     ]
    }
   ],
   "source": [
    "import uproot\n",
    "import pandas as pd\n",
    "import numpy as np\n",
    "import matplotlib.pyplot as plt\n",
    "from xgboost import XGBClassifier\n",
    "from sklearn.model_selection import GridSearchCV, train_test_split, StratifiedKFold\n",
    "from sklearn.metrics import log_loss, auc, roc_curve, accuracy_score, roc_auc_score"
   ]
  },
  {
   "cell_type": "code",
   "execution_count": 2,
   "metadata": {
    "collapsed": true,
    "scrolled": true
   },
   "outputs": [],
   "source": [
    "def TrainEval(train_DF, test_DF, var_list, n_estimators=150, max_depth=3, min_child_weight=1, seed=0):\n",
    "    \"\"\" With training and testing DataFrame, and a list of variables with which to train and evaluate, produce the \n",
    "        score series for both the training and testing sets\n",
    "    \"\"\"\n",
    "    \n",
    "    # Create XGB object with the hyperparameters desired\n",
    "    xgb = XGBClassifier(n_estimators=n_estimators,\n",
    "                        max_depth=max_depth, \n",
    "                        min_child_weight=min_child_weight,\n",
    "                        seed=seed)\n",
    "\n",
    "    # Fit to the training set, making sure to include event weights\n",
    "    xgb.fit(train_DF[var_list], # X\n",
    "            train_DF[\"isSignal\"], # yii\n",
    "            sample_weight=train_DF[\"weight\"], # weights\n",
    "           )\n",
    "\n",
    "    # Score the testing set\n",
    "    y_score_test = xgb.predict_proba(test_DF[var_list])[:,1] # predict_proba returns [prob_bkg, prob_sig] which have the property prob_bkg+prob_sig = 1 so we only need one. Chose signal-ness\n",
    "    \n",
    "    # Score the training set (for overtraining analysis)\n",
    "    y_score_train = xgb.predict_proba(train_DF[var_list])[:,1] # predict_proba returns [prob_bkg, prob_sig] which have the property prob_bkg+prob_sig = 1 so we only need one. Chose signal-ness\n",
    "    \n",
    "    # Cast the scores into pandas Series in order to connect their index to the source index\n",
    "    y_score_test = pd.Series(y_score_test, index=test_DF.index) \n",
    "    y_score_train = pd.Series(y_score_train, index=train_DF.index) \n",
    "    \n",
    "    return y_score_train, y_score_test"
   ]
  },
  {
   "cell_type": "code",
   "execution_count": 3,
   "metadata": {
    "collapsed": true
   },
   "outputs": [],
   "source": [
    "def PlotTemplate(train_DF, test_DF, y_score_train, y_score_test, norm=True, ax=None):\n",
    "    \"\"\" Using the source DataFrames and the score Series, plot the template \n",
    "        histograms for the training and testing sets\n",
    "    \"\"\"\n",
    "    \n",
    "    do_plot=False\n",
    "    if ax == None:\n",
    "        plt.clf()\n",
    "        fig, ax = plt.subplots()\n",
    "        do_plot=True\n",
    "\n",
    "    ax.hist(y_score_test[test_DF[\"isSignal\"] == 0], \n",
    "             weights=test_DF[\"weight\"][test_DF[\"isSignal\"] == 0] / (1.0 if not norm else sum(test_DF[\"weight\"][test_DF[\"isSignal\"] == 0])), \n",
    "             bins=10, range=(0,1), color=\"red\", histtype=\"step\", ls=\"-\", label=\"test bkg\")\n",
    "    ax.hist(y_score_test[test_DF[\"isSignal\"] == 1], \n",
    "             weights=test_DF[\"weight\"][test_DF[\"isSignal\"] == 1] / (1.0 if not norm else sum(test_DF[\"weight\"][test_DF[\"isSignal\"] == 1])), \n",
    "             bins=10, range=(0,1), color=\"blue\", histtype=\"step\", ls=\"-\", label=\"test sig\")\n",
    "    ax.hist(y_score_train[train_DF[\"isSignal\"] == 0], \n",
    "             weights=train_DF[\"weight\"][train_DF[\"isSignal\"] == 0] / (1.0 if not norm else sum(train_DF[\"weight\"][train_DF[\"isSignal\"] == 0])), \n",
    "             bins=10, range=(0,1), color=\"red\", histtype=\"step\", ls=\"--\", label=\"train bkg\")\n",
    "    ax.hist(y_score_train[train_DF[\"isSignal\"] == 1], \n",
    "             weights=train_DF[\"weight\"][train_DF[\"isSignal\"] == 1] / (1.0 if not norm else sum(train_DF[\"weight\"][train_DF[\"isSignal\"] == 1])), \n",
    "             bins=10, range=(0,1), color=\"blue\", histtype=\"step\", ls=\"--\", label=\"train sig\")\n",
    "    ax.legend(loc=\"upper center\")\n",
    "    ax.set_title(\"%sBDT Score\" % (\"Normalized \" if norm else \"\"))\n",
    "    ax.set_xlabel(\"BDT score\")\n",
    "    ax.set_ylabel(\"Events\" if not norm else \"Fraction of Events\")\n",
    "    \n",
    "    if do_plot:\n",
    "        plt.show()\n",
    "\n",
    "def PlotROC(train_DF, test_DF, y_score_train, y_score_test, ax=None):\n",
    "    \"\"\" Compute ROC curve and ROC area for each class, and plot.\n",
    "    \"\"\"\n",
    "    \n",
    "    do_plot=False\n",
    "    if ax == None:\n",
    "        plt.clf()\n",
    "        fig, ax = plt.subplots()\n",
    "        do_plot=True\n",
    "\n",
    "    fpr = {\"test\": {}, \"train\": {}}\n",
    "    tpr = {\"test\": {}, \"train\": {}}\n",
    "    roc_auc = {\"test\": {}, \"train\": {}}\n",
    "    \n",
    "    fpr[\"test\"], tpr[\"test\"], _ = roc_curve(test_DF[\"isSignal\"], \n",
    "                                            y_score_test,\n",
    "                                            sample_weight=test_DF[\"weight\"])\n",
    "    fpr[\"train\"], tpr[\"train\"], _ = roc_curve(train_DF[\"isSignal\"], \n",
    "                                              y_score_train,\n",
    "                                              sample_weight=train_DF[\"weight\"])\n",
    "\n",
    "    try:\n",
    "        roc_auc[\"test\"] = auc(fpr[\"test\"], tpr[\"test\"])\n",
    "        roc_auc[\"train\"] = auc(fpr[\"train\"], tpr[\"train\"])\n",
    "    except:\n",
    "        # print \"Bug in old version of sklearn. Attempting to bypass. ROC AUC may be slightly incorrect.\"\n",
    "        fpr[\"test\"], tpr[\"test\"] = zip(*sorted(zip(fpr[\"test\"], tpr[\"test\"])))\n",
    "        fpr[\"train\"], tpr[\"train\"] = zip(*sorted(zip(fpr[\"train\"], tpr[\"train\"])))        \n",
    "        roc_auc[\"test\"] = auc(fpr[\"test\"], tpr[\"test\"])\n",
    "        roc_auc[\"train\"] = auc(fpr[\"train\"], tpr[\"train\"])\n",
    "\n",
    "    ax.plot(fpr[\"test\"], tpr[\"test\"], color='darkblue',\n",
    "             lw=2, label='test ROC AUC = %0.2f' % roc_auc[\"test\"])\n",
    "    ax.plot(fpr[\"train\"], tpr[\"train\"], color='darkorange',\n",
    "             lw=2, label='train ROC AUC = %0.2f' % roc_auc[\"train\"])    \n",
    "    ax.plot([0, 1], [0, 1], color='navy', lw=2, linestyle='--')\n",
    "    ax.set_xlim([0.0, 1.0])\n",
    "    ax.set_ylim([0.0, 1.05])\n",
    "    ax.set_xlabel('False Positive Rate')\n",
    "    ax.set_ylabel('True Positive Rate')\n",
    "    ax.set_title('Receiver operating characteristic example')\n",
    "    ax.legend(loc=\"lower right\")\n",
    "    \n",
    "    if do_plot:\n",
    "        plt.show()\n",
    "\n",
    "def PlotROCTemplate(train_DF, test_DF, y_score_train, y_score_test):\n",
    "\n",
    "    plt.clf()\n",
    "    fig, axs = plt.subplots(1,2,figsize=(16,6))\n",
    "    PlotTemplate(train_DF, test_DF, y_score_train, y_score_test, ax=axs[0])\n",
    "    PlotROC(train_DF, test_DF, y_score_train, y_score_test, ax=axs[1])\n",
    "    plt.show()"
   ]
  },
  {
   "cell_type": "code",
   "execution_count": 4,
   "metadata": {
    "collapsed": true
   },
   "outputs": [],
   "source": [
    "def PlotBehavior(x, results_train, results_test, xw=7, yw=4, plot_err=True, plot_vertical=False):\n",
    "    \"\"\" If given a set of results swept over some hyperparameter, plot\n",
    "    \"\"\"\n",
    "    \n",
    "    to_plot = results_test.keys()\n",
    "    \n",
    "    plt.clf()\n",
    "    if plot_vertical:\n",
    "        fig, axs = plt.subplots(len(to_plot), 1, figsize=(xw*len(to_plot), yw))\n",
    "    else:\n",
    "        fig, axs = plt.subplots(1, len(to_plot), figsize=(xw*len(to_plot), yw))\n",
    "    \n",
    "    for i, var in enumerate(to_plot):\n",
    "        \n",
    "        axs[i].plot(x, results_test[var][:,0], color=\"darkblue\", label=\"test\")\n",
    "        axs[i].plot(x, results_train[var][:,0],color=\"darkorange\", label=\"train\")\n",
    "        if plot_err:\n",
    "            axs[i].fill_between(x, results_test[var][:,0] + results_test[var][:,1], \n",
    "                            results_test[var][:,0] - results_test[var][:,1],\n",
    "                            color=\"darkblue\", label=\"test\", alpha=0.3)\n",
    "            axs[i].fill_between(x, results_train[var][:,0] + results_train[var][:,1], \n",
    "                            results_train[var][:,0] - results_train[var][:,1],\n",
    "                            color=\"darkorange\", label=\"train\", alpha=0.3)    \n",
    "        axs[i].set_title(var)\n",
    "        axs[i].legend(loc=\"best\")\n",
    "        axs[i].set_xlabel(\"Number of Estimators\")\n",
    "        axs[i].set_ylabel(var)\n",
    "    plt.show()"
   ]
  },
  {
   "cell_type": "markdown",
   "metadata": {},
   "source": [
    "# Start here!\n",
    "\n",
    "First we must import our ROOT file. To do so, its nice to not have to use ROOT, so we will use uproot to convert some TTrees into pandas DataFrames\n"
   ]
  },
  {
   "cell_type": "code",
   "execution_count": 5,
   "metadata": {},
   "outputs": [
    {
     "name": "stdout",
     "output_type": "stream",
     "text": [
      "['TreeS;1', 'TreeB;1']\n"
     ]
    }
   ],
   "source": [
    "# Here is our file\n",
    "my_file_path = \"./tmva_class_example.root\"\n",
    "\n",
    "# Let's see at what trees it has\n",
    "print uproot.open(my_file_path).keys()"
   ]
  },
  {
   "cell_type": "markdown",
   "metadata": {},
   "source": [
    "Check what these keys give us"
   ]
  },
  {
   "cell_type": "code",
   "execution_count": 6,
   "metadata": {},
   "outputs": [
    {
     "name": "stdout",
     "output_type": "stream",
     "text": [
      "<TTree 'TreeS' at 0x00010d232f50>\n",
      "<TTree 'TreeB' at 0x000121b99290>\n"
     ]
    }
   ],
   "source": [
    "print(uproot.open(my_file_path)[\"TreeS\"])\n",
    "print(uproot.open(my_file_path)[\"TreeB\"])"
   ]
  },
  {
   "cell_type": "markdown",
   "metadata": {},
   "source": [
    "These are basically TTrees, so lets also look at the branches, stored as keys"
   ]
  },
  {
   "cell_type": "code",
   "execution_count": 7,
   "metadata": {},
   "outputs": [
    {
     "name": "stdout",
     "output_type": "stream",
     "text": [
      "['var1', 'var2', 'var3', 'var4']\n",
      "['var1', 'var2', 'var3', 'var4', 'weight']\n"
     ]
    }
   ],
   "source": [
    "print(uproot.open(my_file_path)[\"TreeS\"].keys())\n",
    "print(uproot.open(my_file_path)[\"TreeB\"].keys())"
   ]
  },
  {
   "cell_type": "markdown",
   "metadata": {},
   "source": [
    "Lets see what they look like once processed into DataFrames"
   ]
  },
  {
   "cell_type": "code",
   "execution_count": 8,
   "metadata": {},
   "outputs": [
    {
     "data": {
      "text/html": [
       "<div>\n",
       "<style>\n",
       "    .dataframe thead tr:only-child th {\n",
       "        text-align: right;\n",
       "    }\n",
       "\n",
       "    .dataframe thead th {\n",
       "        text-align: left;\n",
       "    }\n",
       "\n",
       "    .dataframe tbody tr th {\n",
       "        vertical-align: top;\n",
       "    }\n",
       "</style>\n",
       "<table border=\"1\" class=\"dataframe\">\n",
       "  <thead>\n",
       "    <tr style=\"text-align: right;\">\n",
       "      <th></th>\n",
       "      <th>var1</th>\n",
       "      <th>var2</th>\n",
       "      <th>var3</th>\n",
       "      <th>var4</th>\n",
       "    </tr>\n",
       "  </thead>\n",
       "  <tbody>\n",
       "    <tr>\n",
       "      <th>0</th>\n",
       "      <td>-1.143611</td>\n",
       "      <td>-0.822373</td>\n",
       "      <td>-0.495426</td>\n",
       "      <td>-0.629427</td>\n",
       "    </tr>\n",
       "    <tr>\n",
       "      <th>1</th>\n",
       "      <td>2.143443</td>\n",
       "      <td>-0.018923</td>\n",
       "      <td>0.267030</td>\n",
       "      <td>1.267493</td>\n",
       "    </tr>\n",
       "    <tr>\n",
       "      <th>2</th>\n",
       "      <td>-0.443913</td>\n",
       "      <td>0.486827</td>\n",
       "      <td>0.139535</td>\n",
       "      <td>0.611483</td>\n",
       "    </tr>\n",
       "    <tr>\n",
       "      <th>3</th>\n",
       "      <td>0.281100</td>\n",
       "      <td>-0.347094</td>\n",
       "      <td>-0.240525</td>\n",
       "      <td>0.347208</td>\n",
       "    </tr>\n",
       "    <tr>\n",
       "      <th>4</th>\n",
       "      <td>0.604006</td>\n",
       "      <td>0.151232</td>\n",
       "      <td>0.964091</td>\n",
       "      <td>1.227711</td>\n",
       "    </tr>\n",
       "  </tbody>\n",
       "</table>\n",
       "</div>"
      ],
      "text/plain": [
       "       var1      var2      var3      var4\n",
       "0 -1.143611 -0.822373 -0.495426 -0.629427\n",
       "1  2.143443 -0.018923  0.267030  1.267493\n",
       "2 -0.443913  0.486827  0.139535  0.611483\n",
       "3  0.281100 -0.347094 -0.240525  0.347208\n",
       "4  0.604006  0.151232  0.964091  1.227711"
      ]
     },
     "execution_count": 8,
     "metadata": {},
     "output_type": "execute_result"
    }
   ],
   "source": [
    "uproot.open(my_file_path)[\"TreeS\"].pandas.df()[:5]"
   ]
  },
  {
   "cell_type": "code",
   "execution_count": 9,
   "metadata": {},
   "outputs": [
    {
     "data": {
      "text/html": [
       "<div>\n",
       "<style>\n",
       "    .dataframe thead tr:only-child th {\n",
       "        text-align: right;\n",
       "    }\n",
       "\n",
       "    .dataframe thead th {\n",
       "        text-align: left;\n",
       "    }\n",
       "\n",
       "    .dataframe tbody tr th {\n",
       "        vertical-align: top;\n",
       "    }\n",
       "</style>\n",
       "<table border=\"1\" class=\"dataframe\">\n",
       "  <thead>\n",
       "    <tr style=\"text-align: right;\">\n",
       "      <th></th>\n",
       "      <th>var1</th>\n",
       "      <th>var2</th>\n",
       "      <th>var3</th>\n",
       "      <th>var4</th>\n",
       "      <th>weight</th>\n",
       "    </tr>\n",
       "  </thead>\n",
       "  <tbody>\n",
       "    <tr>\n",
       "      <th>0</th>\n",
       "      <td>-2.763987</td>\n",
       "      <td>-1.494146</td>\n",
       "      <td>-1.616673</td>\n",
       "      <td>-2.917889</td>\n",
       "      <td>0.106761</td>\n",
       "    </tr>\n",
       "    <tr>\n",
       "      <th>1</th>\n",
       "      <td>-0.700133</td>\n",
       "      <td>-1.344608</td>\n",
       "      <td>-0.822912</td>\n",
       "      <td>-1.393981</td>\n",
       "      <td>0.892978</td>\n",
       "    </tr>\n",
       "    <tr>\n",
       "      <th>2</th>\n",
       "      <td>3.407164</td>\n",
       "      <td>1.996978</td>\n",
       "      <td>2.607432</td>\n",
       "      <td>3.464603</td>\n",
       "      <td>0.001675</td>\n",
       "    </tr>\n",
       "    <tr>\n",
       "      <th>3</th>\n",
       "      <td>-3.178998</td>\n",
       "      <td>-3.001599</td>\n",
       "      <td>-3.545788</td>\n",
       "      <td>-4.120248</td>\n",
       "      <td>0.005029</td>\n",
       "    </tr>\n",
       "    <tr>\n",
       "      <th>4</th>\n",
       "      <td>0.966825</td>\n",
       "      <td>0.987334</td>\n",
       "      <td>1.110154</td>\n",
       "      <td>1.661289</td>\n",
       "      <td>0.175052</td>\n",
       "    </tr>\n",
       "  </tbody>\n",
       "</table>\n",
       "</div>"
      ],
      "text/plain": [
       "       var1      var2      var3      var4    weight\n",
       "0 -2.763987 -1.494146 -1.616673 -2.917889  0.106761\n",
       "1 -0.700133 -1.344608 -0.822912 -1.393981  0.892978\n",
       "2  3.407164  1.996978  2.607432  3.464603  0.001675\n",
       "3 -3.178998 -3.001599 -3.545788 -4.120248  0.005029\n",
       "4  0.966825  0.987334  1.110154  1.661289  0.175052"
      ]
     },
     "execution_count": 9,
     "metadata": {},
     "output_type": "execute_result"
    }
   ],
   "source": [
    "uproot.open(my_file_path)[\"TreeB\"].pandas.df()[:5]"
   ]
  },
  {
   "cell_type": "markdown",
   "metadata": {},
   "source": [
    "TreeS doesn't seem to have sample weights, although TreeB does, so we will append an arbitrary (1) event weight to TreeS's DataFrame, to each row.\n",
    "Additionally, we will add an \"isSignal\" variable to remember which is a signal sample, and which is a background sample. \n",
    "This can also be a string identifier such as a sample name."
   ]
  },
  {
   "cell_type": "code",
   "execution_count": 10,
   "metadata": {
    "collapsed": true
   },
   "outputs": [],
   "source": [
    "upfile = uproot.open(my_file_path)\n",
    "var_list = upfile[\"TreeS\"].keys() # these are our 4 kinematic variables, lets save for later\n",
    "\n",
    "# these are the root_pandas commands, although this requires ROOT which is unavailable to \n",
    "# myBinder without a bunch of modification\n",
    "# DF_sig = root_pandas.read_root(my_file_path, \"TreeS\") \n",
    "# DF_bkg = root_pandas.read_root(my_file_path, \"TreeB\") \n",
    "\n",
    "# Import the DataFrames with uproot and our opened file\n",
    "DF_sig = upfile[\"TreeS\"].pandas.df(upfile[\"TreeS\"].keys())\n",
    "DF_bkg = upfile[\"TreeB\"].pandas.df(upfile[\"TreeB\"].keys())\n",
    "\n",
    "# Decorate our DataFrames with useful extra information\n",
    "DF_sig = pd.concat([upfile[\"TreeS\"].pandas.df(upfile[\"TreeS\"].keys()), \n",
    "                    pd.DataFrame({\"weight\": np.ones(DF_sig.shape[0])}), # TreeS is missing this\n",
    "                    pd.DataFrame({\"isSignal\": np.full(DF_sig.shape[0], 1)})], \n",
    "                   axis=1)\n",
    "\n",
    "DF_bkg = pd.concat([upfile[\"TreeB\"].pandas.df(upfile[\"TreeB\"].keys()), \n",
    "                    # pd.DataFrame({\"weight\": np.ones(DF_bkg.shape[0])}), # TreeB is not missing this\n",
    "                    pd.DataFrame({\"isSignal\": np.full(DF_bkg.shape[0], 0)})], \n",
    "                   axis=1)\n",
    "\n",
    "# Combine both DFs for easy transport and manipulation\n",
    "# We can access the two sets by slicing the DataFrame on the \"isSignal\" variable\n",
    "DF = pd.concat([DF_sig, DF_bkg], axis=0)"
   ]
  },
  {
   "cell_type": "markdown",
   "metadata": {},
   "source": [
    "Here is a basic example: split source dataset into training and testing, train on training set, evaluate on both testing and training set, and plot"
   ]
  },
  {
   "cell_type": "code",
   "execution_count": 11,
   "metadata": {
    "scrolled": false
   },
   "outputs": [
    {
     "data": {
      "text/plain": [
       "<matplotlib.figure.Figure at 0x121c9d890>"
      ]
     },
     "metadata": {},
     "output_type": "display_data"
    },
    {
     "data": {
      "image/png": "[encoded data removed]",
      "text/plain": [
       "<matplotlib.figure.Figure at 0x121c9dd10>"
      ]
     },
     "metadata": {},
     "output_type": "display_data"
    }
   ],
   "source": [
    "# Here we use scikit-learn's train_test_split method to generate two shuffled datasets from our source\n",
    "train_DF, test_DF = train_test_split(DF, train_size=0.6, test_size=0.4, shuffle=True, random_state=0)\n",
    "\n",
    "# START ------------------- Identical to TrainEval method -----------------------\n",
    "# Create XGB object with the hyperparameters desired\n",
    "xgb = XGBClassifier(n_estimators=200,\n",
    "                    max_depth=3, \n",
    "                    min_child_weight=1,\n",
    "                    seed=0)\n",
    "\n",
    "# Fit to the training set, making sure to include event weights\n",
    "xgb.fit(train_DF[[\"var1\", \"var2\", \"var3\", \"var4\"]], # X\n",
    "        train_DF[\"isSignal\"], # y\n",
    "        sample_weight=train_DF[\"weight\"], # weights\n",
    "       )\n",
    "\n",
    "# Score the testing set\n",
    "y_score_test = xgb.predict_proba(test_DF[var_list])[:,1] # predict_proba returns [prob_bkg, prob_sig] which have the property prob_bkg+prob_sig = 1 so we only need one. Chose signal-ness\n",
    "\n",
    "# Score the training set (for overtraining analysis)\n",
    "y_score_train = xgb.predict_proba(train_DF[var_list])[:,1] # predict_proba returns [prob_bkg, prob_sig] which have the property prob_bkg+prob_sig = 1 so we only need one. Chose signal-ness\n",
    "\n",
    "# Cast the scores into pandas Series in order to connect their index to the source index\n",
    "y_score_test = pd.Series(y_score_test, index=test_DF.index) \n",
    "y_score_train = pd.Series(y_score_train, index=train_DF.index) \n",
    "# END ------------------- Identical to TrainEval method -----------------------\n",
    "\n",
    "PlotROCTemplate(test_DF, train_DF, y_score_test, y_score_train)"
   ]
  },
  {
   "cell_type": "markdown",
   "metadata": {},
   "source": [
    "Parameter sweeping example: fit multiple sets of hyperparameters and record their performance for plotting. See GridSearchCV for scikit-learn packaged version of this functionality \n",
    "(note -- 0.19 for scikit-learn does not support multiple scores, which means this must be rerun for each score \n",
    "to investigate)"
   ]
  },
  {
   "cell_type": "code",
   "execution_count": null,
   "metadata": {
    "scrolled": true
   },
   "outputs": [
    {
     "name": "stdout",
     "output_type": "stream",
     "text": [
      "10   New high (auc) score!: 0.8469 ; Overtraining error 1.05%\n",
      "20   New high (auc) score!: 0.8591 ; Overtraining error 1.36%\n",
      "30   New high (auc) score!: 0.8723 ; Overtraining error 1.69%\n",
      "40   New high (auc) score!: 0.8821 ; Overtraining error 1.79%\n",
      "50   New high (auc) score!: 0.8889 ; Overtraining error 2.11%\n",
      "60   New high (auc) score!: 0.8953 ; Overtraining error 2.29%\n",
      "70   New high (auc) score!: 0.8990 ; Overtraining error 2.42%\n",
      "80   New high (auc) score!: 0.9019 ; Overtraining error 2.51%\n",
      "90   New high (auc) score!: 0.9041 ; Overtraining error 2.64%\n",
      "100  New high (auc) score!: 0.9055 ; Overtraining error 2.73%\n",
      "120  New high (auc) score!: 0.9083 ; Overtraining error 2.86%\n",
      "140  New high (auc) score!: 0.9099 ; Overtraining error 3.02%\n",
      "160  New high (auc) score!: 0.9110 ; Overtraining error 3.16%\n",
      "180  New high (auc) score!: 0.9120 ; Overtraining error 3.26%\n",
      "200  New high (auc) score!: 0.9124 ; Overtraining error 3.38%\n",
      "250  New high (auc) score!: 0.9130 ; Overtraining error 3.67%\n",
      "300  Not improved: 0.9128 ; Overtraining error 3.98%\n",
      "350 "
     ]
    }
   ],
   "source": [
    "# Results will be stored as lists of pairs (mean, std) for each hyperparameter set\n",
    "results_train = {\"loss\":[], \"acc\": [], \"auc\": []}\n",
    "results_test = {\"loss\":[], \"acc\": [], \"auc\": []}\n",
    "\n",
    "# Create our training / testing split\n",
    "train_DF, test_DF = train_test_split(DF, train_size=0.6, test_size=0.4, shuffle=True, random_state=0)\n",
    "\n",
    "# While sweeping our hyperparameters, we want to track the best result for plotting in the end\n",
    "best_score = -999\n",
    "\n",
    "# Select some values of n_estimators to check, and lock the other hyperparameters\n",
    "max_depth = 3\n",
    "min_child_weight = 5\n",
    "# Estimators to check -- the x axis of our plots\n",
    "x = range(10,100,10) + range(100,200,20) + range(200,500,50) + range(500,1100,100)\n",
    "for i, n_est in enumerate(x):\n",
    "\n",
    "    # Lazy progress bar\n",
    "    print \"{:4s}\".format(str(n_est)),\n",
    "    \n",
    "    # Calculate scores for this set of hyperparameters\n",
    "    y_score_train, y_score_test = TrainEval(train_DF, \n",
    "                                            test_DF, \n",
    "                                            var_list, \n",
    "                                            n_estimators=n_est, \n",
    "                                            max_depth=max_depth,\n",
    "                                            min_child_weight=min_child_weight,\n",
    "                                            seed=0)\n",
    "\n",
    "    # Record all the goodies from this iteration for plotting later. \n",
    "    # Each entry is a pair of values (mean, std). \n",
    "    # In this case, only record a single value with no std.\n",
    "    results_test[\"loss\"].append( (log_loss(test_DF[\"isSignal\"], y_score_test, sample_weight=test_DF[\"weight\"]),0) )\n",
    "    results_train[\"loss\"].append( (log_loss(train_DF[\"isSignal\"], y_score_train, sample_weight=train_DF[\"weight\"]),0) )\n",
    "    results_test[\"acc\"].append( (accuracy_score(test_DF[\"isSignal\"], (y_score_test+0.5).astype(int), sample_weight=test_DF[\"weight\"]),0) )\n",
    "    results_train[\"acc\"].append( (accuracy_score(train_DF[\"isSignal\"], (y_score_train+0.5).astype(int), sample_weight=train_DF[\"weight\"]),0) )\n",
    "    results_test[\"auc\"].append( (roc_auc_score(test_DF[\"isSignal\"], y_score_test, sample_weight=test_DF[\"weight\"]),0) )\n",
    "    results_train[\"auc\"].append( (roc_auc_score(train_DF[\"isSignal\"], y_score_train, sample_weight=train_DF[\"weight\"]),0) )\n",
    "    \n",
    "    # Using our chosen \"best\" metric, we will keep track of the best set of hyperparameters here\n",
    "    # We could have a more advance metric for early stopping here, such as demanding a stop if \n",
    "    # the score doesn't improve n times in a row, or a minimum required improvement,\n",
    "    # but for now we won't worry about it\n",
    "    OT_dev = 100*(results_train[\"auc\"][i][0] - results_test[\"auc\"][i][0]) / results_test[\"auc\"][i][0]\n",
    "    if results_test[\"auc\"][i][0] > best_score:\n",
    "        best_score = results_test[\"auc\"][i][0] # test[auc][n_estimators][mean]\n",
    "        best_score_train = results_train[\"auc\"][i][0] # test[auc][n_estimators][mean]\n",
    "        print \"New high (auc) score!: {:4.4f} ; Overtraining error {:4.2f}%\".format(results_test[\"auc\"][i][0], OT_dev)\n",
    "        best_train_DF = train_DF\n",
    "        best_test_DF = test_DF\n",
    "        best_y_score_train = y_score_train\n",
    "        best_y_score_test = y_score_test\n",
    "        best_params = {\"n_estimators\":n_est, \"max_depth\": max_depth, \"min_child_weight\": max_depth}\n",
    "    else:\n",
    "        print \"Not improved: {:4.4f} ; Overtraining error {:4.2f}%\".format(results_test[\"auc\"][i][0], OT_dev)\n",
    "    \n",
    "print \"\" # consequence of the lazy progress bar\n",
    "\n",
    "# Numpy arrays are easier to manipulate than lists\n",
    "for k in results_test.keys():\n",
    "    results_test[k] = np.array(results_test[k])\n",
    "    results_train[k] = np.array(results_train[k])"
   ]
  },
  {
   "cell_type": "code",
   "execution_count": null,
   "metadata": {
    "scrolled": true
   },
   "outputs": [],
   "source": [
    "# Now plot everything we have for our best estimator\n",
    "PlotROCTemplate(best_test_DF, best_train_DF, best_y_score_test, best_y_score_train)\n",
    "\n",
    "# Also plot our parameter sweep\n",
    "PlotBehavior(x, results_train, results_test, plot_err=False)"
   ]
  },
  {
   "cell_type": "markdown",
   "metadata": {},
   "source": [
    "Now let us improve our training/testing split! Instead of just splitting our set, let us use KFold cross-validation.\n",
    "We will split the set into N/k sized splits, which we will then permute k times into training and testing sets, never allowing the sets to overlap."
   ]
  },
  {
   "cell_type": "code",
   "execution_count": null,
   "metadata": {},
   "outputs": [],
   "source": [
    "# Results will be stored as lists of pairs (mean, std) for each hyperparameter set\n",
    "kfold_results_train = {\"loss\":[], \"acc\": [], \"auc\": []}\n",
    "kfold_results_test = {\"loss\":[], \"acc\": [], \"auc\": []}\n",
    "\n",
    "# Instead of a simple split, we here initialize a StratifiedKFold object to shuffle and split\n",
    "skf = StratifiedKFold(n_splits=3, shuffle=True, random_state=0)\n",
    "\n",
    "# While sweeping our hyperparameters, we want to track the best result for plotting in the end\n",
    "best_score = -999\n",
    "\n",
    "# Select some values of n_estimators to check, and lock the other hyperparameters\n",
    "max_depth = 3\n",
    "min_child_weight = 5\n",
    "# Estimators to check -- the x axis of our plots\n",
    "x = range(10,100,10) + range(100,200,20) + range(200,500,50) + range(500,1100,100)\n",
    "for i,n_est in enumerate(x):\n",
    "    \n",
    "    # Lazy progress bar\n",
    "    print \"{:4s}\".format(str(n_est)),\n",
    "    \n",
    "    # We will now have k results per set of hyperparameters, to average in the end\n",
    "    this_result_train = {\"loss\":[], \"acc\": [], \"auc\": []}\n",
    "    this_result_test  = {\"loss\":[], \"acc\": [], \"auc\": []}\n",
    "    \n",
    "    for train_index, test_index in skf.split(DF, DF[\"isSignal\"]):\n",
    "\n",
    "\n",
    "        train_DF = DF.iloc[train_index]\n",
    "        test_DF = DF.iloc[test_index]    \n",
    "        \n",
    "        y_score_train, y_score_test = TrainEval(train_DF, \n",
    "                                                test_DF, \n",
    "                                                var_list, \n",
    "                                                n_estimators=n_est, \n",
    "                                                max_depth=max_depth,\n",
    "                                                min_child_weight=max_depth,\n",
    "                                                seed=0)\n",
    "\n",
    "        # Record all the goodies from this iteration for plotting later\n",
    "        this_result_test[\"loss\"].append(log_loss(test_DF[\"isSignal\"], y_score_test, sample_weight=test_DF[\"weight\"]))\n",
    "        this_result_train[\"loss\"].append(log_loss(train_DF[\"isSignal\"], y_score_train, sample_weight=train_DF[\"weight\"]))    \n",
    "        this_result_test[\"acc\"].append(accuracy_score(test_DF[\"isSignal\"], (y_score_test+0.5).astype(int), sample_weight=test_DF[\"weight\"]))\n",
    "        this_result_train[\"acc\"].append(accuracy_score(train_DF[\"isSignal\"], (y_score_train+0.5).astype(int), sample_weight=train_DF[\"weight\"]))    \n",
    "        this_result_test[\"auc\"].append(roc_auc_score(test_DF[\"isSignal\"], y_score_test, sample_weight=test_DF[\"weight\"]))\n",
    "        this_result_train[\"auc\"].append(roc_auc_score(train_DF[\"isSignal\"], y_score_train, sample_weight=train_DF[\"weight\"]))    \n",
    "    \n",
    "    # Replace our recorded lists with a mean and standard deviation pair\n",
    "    kfold_results_test[\"loss\"].append((np.mean(this_result_test[\"loss\"]), np.std(this_result_test[\"loss\"])) )\n",
    "    kfold_results_train[\"loss\"].append((np.mean(this_result_train[\"loss\"]), np.std(this_result_train[\"loss\"])) )\n",
    "    kfold_results_test[\"acc\"].append((np.mean(this_result_test[\"acc\"]), np.std(this_result_test[\"acc\"])) )\n",
    "    kfold_results_train[\"acc\"].append((np.mean(this_result_train[\"acc\"]), np.std(this_result_train[\"acc\"])) )\n",
    "    kfold_results_test[\"auc\"].append((np.mean(this_result_test[\"auc\"]), np.std(this_result_test[\"auc\"])) )\n",
    "    kfold_results_train[\"auc\"].append((np.mean(this_result_train[\"auc\"]), np.std(this_result_train[\"auc\"])) )\n",
    "    \n",
    "    # Using our chosen \"best\" metric, we will keep track of the best set of hyperparameters here\n",
    "    # We could have a more advance metric for early stopping here, such as demanding a stop if \n",
    "    # the score doesn't improve n times in a row, or a minimum required improvement,\n",
    "    # but for now we won't worry about it\n",
    "    OT_dev = 100*(kfold_results_train[\"auc\"][i][0] - kfold_results_test[\"auc\"][i][0]) / kfold_results_test[\"auc\"][i][0]\n",
    "    if kfold_results_test[\"auc\"][i][0] > best_score:\n",
    "        best_score = kfold_results_test[\"auc\"][i][0] # test[auc][n_estimators][mean]\n",
    "        best_score_std = kfold_results_test[\"auc\"][i][1] # test[auc][n_estimators][mean]    \n",
    "        best_score_train = kfold_results_train[\"auc\"][i][0] # test[auc][n_estimators][mean]\n",
    "        best_score_train_std = kfold_results_train[\"auc\"][i][1] # test[auc][n_estimators][mean]        \n",
    "        print \"New high (auc) score!: {:4.4f} +- {:4.4f} ; Overtraining error {:4.2f}%\".format(best_score, best_score_std, OT_dev)\n",
    "        best_train_DF = train_DF\n",
    "        best_test_DF = test_DF\n",
    "        best_y_score_train = y_score_train\n",
    "        best_y_score_test = y_score_test\n",
    "        best_params = {\"n_estimators\":n_est, \"max_depth\": max_depth, \"min_child_weight\": max_depth}\n",
    "    else:\n",
    "        print \"Not improved: {:4.4f} +- {:4.4f} ; Overtraining error {:4.2f}%\".format(kfold_results_test[\"auc\"][i][0], kfold_results_test[\"auc\"][i][1], OT_dev)\n",
    "        \n",
    "print \"\" # consequence of the lazy progress bar\n",
    "\n",
    "# Numpy arrays are easier to manipulate than lists\n",
    "for k in kfold_results_test.keys():\n",
    "    kfold_results_test[k] = np.array(kfold_results_test[k])\n",
    "    kfold_results_train[k] = np.array(kfold_results_train[k])"
   ]
  },
  {
   "cell_type": "code",
   "execution_count": null,
   "metadata": {},
   "outputs": [],
   "source": [
    "# Now plot everything we have for our best estimator\n",
    "PlotROCTemplate(best_test_DF, best_train_DF, best_y_score_test, best_y_score_train)\n",
    "\n",
    "# Also plot our parameter sweep\n",
    "PlotBehavior(x, results_train, results_test, plot_err=True)"
   ]
  },
  {
   "cell_type": "code",
   "execution_count": null,
   "metadata": {
    "collapsed": true
   },
   "outputs": [],
   "source": []
  }
 ],
 "metadata": {
  "kernelspec": {
   "display_name": "Python 2",
   "language": "python",
   "name": "python2"
  },
  "language_info": {
   "codemirror_mode": {
    "name": "ipython",
    "version": 2
   },
   "file_extension": ".py",
   "mimetype": "text/x-python",
   "name": "python",
   "nbconvert_exporter": "python",
   "pygments_lexer": "ipython2",
   "version": "2.7.13"
  }
 },
 "nbformat": 4,
 "nbformat_minor": 2
}
